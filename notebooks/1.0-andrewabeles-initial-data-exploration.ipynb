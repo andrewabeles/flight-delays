{
 "cells": [
  {
   "cell_type": "code",
   "execution_count": 63,
   "id": "51f997e0-dc96-4aeb-a797-806b7a8511f3",
   "metadata": {},
   "outputs": [],
   "source": [
    "import numpy as np\n",
    "import pandas as pd \n",
    "import dask.dataframe as dd\n",
    "import matplotlib.pyplot as plt"
   ]
  },
  {
   "cell_type": "code",
   "execution_count": 71,
   "id": "11ac8959-8d1b-41bd-bb0d-24026b3cbde4",
   "metadata": {},
   "outputs": [],
   "source": [
    "df = dd.read_csv('../data/interim/flights/*.csv', \n",
    "    dtype={\n",
    "        'CANCELLATION_CODE': 'object',\n",
    "        'ARR_TIME': 'float64',\n",
    "        'ARR_DELAY_GROUP': 'float64',\n",
    "        'DEP_DELAY_GROUP': 'float64',\n",
    "        'DEP_TIME': 'float64',\n",
    "        'WHEELS_OFF': 'float64',\n",
    "        'WHEELS_ON': 'float64'\n",
    "    }\n",
    ")"
   ]
  },
  {
   "cell_type": "code",
   "execution_count": 72,
   "id": "7345bca6-2a6f-4534-aa4e-1131aa58b99f",
   "metadata": {},
   "outputs": [
    {
     "data": {
      "text/plain": [
       "(5995397, 61)"
      ]
     },
     "execution_count": 72,
     "metadata": {},
     "output_type": "execute_result"
    }
   ],
   "source": [
    "df.compute().shape"
   ]
  },
  {
   "cell_type": "markdown",
   "id": "a6150977-936e-4fe1-84aa-eb71fd55dee2",
   "metadata": {},
   "source": [
    "# TODO\n",
    "* Save df to parquet"
   ]
  },
  {
   "cell_type": "code",
   "execution_count": null,
   "id": "b6960c6c-b141-4097-9678-2a33b79c1c37",
   "metadata": {},
   "outputs": [],
   "source": []
  }
 ],
 "metadata": {
  "kernelspec": {
   "display_name": "Python 3 (ipykernel)",
   "language": "python",
   "name": "python3"
  },
  "language_info": {
   "codemirror_mode": {
    "name": "ipython",
    "version": 3
   },
   "file_extension": ".py",
   "mimetype": "text/x-python",
   "name": "python",
   "nbconvert_exporter": "python",
   "pygments_lexer": "ipython3",
   "version": "3.10.5"
  }
 },
 "nbformat": 4,
 "nbformat_minor": 5
}
